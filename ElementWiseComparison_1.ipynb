{
 "cells": [
  {
   "cell_type": "code",
   "execution_count": 1,
   "id": "b62016f7",
   "metadata": {},
   "outputs": [],
   "source": [
    "import numpy as np\n",
    "m=np.array([3,6,9])\n",
    "n=np.array([6,7,8])\n"
   ]
  },
  {
   "cell_type": "code",
   "execution_count": 2,
   "id": "5baa54e3",
   "metadata": {},
   "outputs": [
    {
     "name": "stdout",
     "output_type": "stream",
     "text": [
      "[False False  True]\n"
     ]
    }
   ],
   "source": [
    "print(np.greater(m,n))"
   ]
  },
  {
   "cell_type": "code",
   "execution_count": 3,
   "id": "f5cc57f2",
   "metadata": {},
   "outputs": [
    {
     "name": "stdout",
     "output_type": "stream",
     "text": [
      "[ True  True False]\n"
     ]
    }
   ],
   "source": [
    "print(np.less(m,n))"
   ]
  },
  {
   "cell_type": "code",
   "execution_count": 4,
   "id": "c11a3ab0",
   "metadata": {},
   "outputs": [
    {
     "name": "stdout",
     "output_type": "stream",
     "text": [
      "[False False  True]\n"
     ]
    }
   ],
   "source": [
    "print(np.greater_equal(m,n))"
   ]
  },
  {
   "cell_type": "code",
   "execution_count": 5,
   "id": "2ca4fe6e",
   "metadata": {},
   "outputs": [
    {
     "name": "stdout",
     "output_type": "stream",
     "text": [
      "[ True  True False]\n"
     ]
    }
   ],
   "source": [
    "print(np.less_equal(m,n))"
   ]
  },
  {
   "cell_type": "code",
   "execution_count": null,
   "id": "b558218b",
   "metadata": {},
   "outputs": [],
   "source": []
  }
 ],
 "metadata": {
  "kernelspec": {
   "display_name": "Python 3 (ipykernel)",
   "language": "python",
   "name": "python3"
  },
  "language_info": {
   "codemirror_mode": {
    "name": "ipython",
    "version": 3
   },
   "file_extension": ".py",
   "mimetype": "text/x-python",
   "name": "python",
   "nbconvert_exporter": "python",
   "pygments_lexer": "ipython3",
   "version": "3.11.4"
  }
 },
 "nbformat": 4,
 "nbformat_minor": 5
}
